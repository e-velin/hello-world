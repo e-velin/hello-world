{
 "cells": [
  {
   "cell_type": "code",
   "execution_count": null,
   "metadata": {},
   "outputs": [],
   "source": [
    "install.packages(\"twitteR\")\n",
    "\n",
    "library(twitter)\n",
    "\n",
    "api_key <- \"P6R45KZbtzllnhMBBh4XckDxf\"\n",
    "api_secret <- \"m3BZS9Pn8erpkVgXxUEIGauJ86ehXECZtoZfGCW6edXY1QTjuV\"\n",
    "token <- \"912715580263759875-UgJIthQbC0gYOf5fzJkj9MI17yfrNVo\"\n",
    "token_secret <- \"FowCWCSds6zCMk9JWRkjZGT1de0UiCgIsYQPJSZIe1V6q\"\n",
    "\n",
    "setup_twitter_oauth(api_key, api_secret, token, token_secret)\n",
    "\n",
    "tweets <- searchTwitter(\"#data\", n = 200, lang = \"en\")\n",
    "\n",
    "tweets.df <-twListToDF(tweets)\n",
    "\n",
    "write.csv(tweets.df, \"tweets.csv\") \n",
    "\n",
    "install.packages(\"leaflet\")\n",
    "install.packages(\"maps\") \n",
    "\n",
    "library(leaflet) \n",
    "library(maps)\n",
    "\n",
    "read.csv(\"tweets.csv\", stringsAsFactors = FALSE)\n",
    "\n",
    "m <- leaflet(mymap) %>% addTiles()\n",
    "\n",
    "m %>% addCircles(lng = ~longitude, lat = ~latitude, popup = mymap$type, weight = 8, radius = 40, color = \"#fb3004\", stroke = TRUE, fillOpacity = 0.8)\n"
   ]
  }
 ],
 "metadata": {
  "kernelspec": {
   "display_name": "R",
   "language": "R",
   "name": "ir"
  }
 },
 "nbformat": 4,
 "nbformat_minor": 2
}
