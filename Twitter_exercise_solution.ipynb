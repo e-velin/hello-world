{
 "cells": [
  {
   "cell_type": "code",
   "execution_count": 1,
   "metadata": {
    "ExecuteTime": {
     "end_time": "2018-04-26T22:21:09.072632Z",
     "start_time": "2018-04-26T22:21:06.103867Z"
    }
   },
   "outputs": [
    {
     "name": "stdout",
     "output_type": "stream",
     "text": [
      "Populating the interactive namespace from numpy and matplotlib\n"
     ]
    }
   ],
   "source": [
    "%pylab inline\n",
    "\n",
    "import oauth2\n",
    "import base64\n",
    "import hashlib as hasher\n",
    "import json\n",
    "import folium\n",
    "import geopandas as gpd\n",
    "from shapely.geometry import *"
   ]
  },
  {
   "cell_type": "markdown",
   "metadata": {},
   "source": [
    "### With Twitter you need to create an account. Once you registered you will have to give your mobile phone number as well in order to access the API. \n",
    "<br>\n",
    "The documentation of Twitter's API can be found at https://developer.twitter.com/en/docs/api-reference-index\n"
   ]
  },
  {
   "cell_type": "markdown",
   "metadata": {},
   "source": [
    "## 1. Create an app\n",
    "\n",
    "To use an endpoint, you must create an app and use our OAuth-based authorization system. Visit apps.twitter.com to create one."
   ]
  },
  {
   "cell_type": "code",
   "execution_count": 14,
   "metadata": {
    "ExecuteTime": {
     "end_time": "2018-04-26T22:21:10.338898Z",
     "start_time": "2018-04-26T22:21:10.043477Z"
    }
   },
   "outputs": [],
   "source": [
    "def oauth_req(url, key, secret, http_method=\"GET\", post_body=\"\", http_headers=None):\n",
    "    consumer = oauth2.Consumer(key=\"P6R45KZbtzllnhMBBh4XckDxf\", secret=\"m3BZS9Pn8erpkVgXxUEIGauJ86ehXECZtoZfGCW6edXY1QTjuV\")\n",
    "    token = oauth2.Token(key=key, secret=secret)\n",
    "    client = oauth2.Client(consumer, token)\n",
    "    resp, content = client.request( url, method=http_method, body=post_body.encode('utf-8'), headers=http_headers )\n",
    "    return content\n",
    "\n",
    "\n",
    "key='912715580263759875-UgJIthQbC0gYOf5fzJkj9MI17yfrNVo'\n",
    "secret='FowCWCSds6zCMk9JWRkjZGT1de0UiCgIsYQPJSZIe1V6q'\n",
    "\n",
    "\n",
    "home_timeline = oauth_req( 'https://api.twitter.com/1.1/statuses/home_timeline.json', key=key, secret=secret)"
   ]
  },
  {
   "cell_type": "markdown",
   "metadata": {},
   "source": [
    "## First check whether it works!\n",
    "Different urls will give us access to different data. With the following url we can get our account's settings"
   ]
  },
  {
   "cell_type": "code",
   "execution_count": 18,
   "metadata": {
    "ExecuteTime": {
     "end_time": "2018-04-26T22:21:14.150042Z",
     "start_time": "2018-04-26T22:21:13.925733Z"
    }
   },
   "outputs": [],
   "source": [
    "url=\"https://api.twitter.com/1.1/account/settings.json\"\n",
    "oauth_req( url, key=key, secret=secret)"
   ]
  },
  {
   "cell_type": "markdown",
   "metadata": {
    "ExecuteTime": {
     "end_time": "2018-04-27T06:45:09.252116Z",
     "start_time": "2018-04-27T06:45:09.245561Z"
    }
   },
   "source": [
    "## 2. Collect tweets for a given *#hashtag*"
   ]
  },
  {
   "cell_type": "code",
   "execution_count": 22,
   "metadata": {},
   "outputs": [],
   "source": [
    "import tweepy\n",
    "from tweepy import OAuthHandler\n",
    "from tweepy import Stream\n",
    "from tweepy.streaming import StreamListener"
   ]
  },
  {
   "cell_type": "code",
   "execution_count": 23,
   "metadata": {},
   "outputs": [],
   "source": [
    "consumer_key = \"P6R45KZbtzllnhMBBh4XckDxf\"\n",
    "consumer_secret = \"m3BZS9Pn8erpkVgXxUEIGauJ86ehXECZtoZfGCW6edXY1QTjuV\"\n",
    "access_token = '912715580263759875-UgJIthQbC0gYOf5fzJkj9MI17yfrNVo'\n",
    "access_secret = 'FowCWCSds6zCMk9JWRkjZGT1de0UiCgIsYQPJSZIe1V6q'"
   ]
  },
  {
   "cell_type": "code",
   "execution_count": 24,
   "metadata": {},
   "outputs": [],
   "source": [
    "auth = OAuthHandler(consumer_key, consumer_secret)\n",
    "auth.set_access_token(access_token, access_secret)\n",
    " \n",
    "api = tweepy.API(auth)"
   ]
  },
  {
   "cell_type": "code",
   "execution_count": 25,
   "metadata": {},
   "outputs": [],
   "source": [
    "class MyListener(StreamListener):\n",
    " \n",
    "    def on_data(self, data):\n",
    "        try:\n",
    "            with open('python.json', 'a') as f:\n",
    "                f.write(data)\n",
    "                return True\n",
    "        except BaseException as e:\n",
    "            print(\"Error on_data: %s\" % str(e))\n",
    "        return True\n",
    " \n",
    "    def on_error(self, status):\n",
    "        print(status)\n",
    "        return True"
   ]
  },
  {
   "cell_type": "code",
   "execution_count": null,
   "metadata": {},
   "outputs": [],
   "source": [
    "twitter_stream = Stream(auth, MyListener())\n",
    "twitter_stream.filter(track=['#data'])"
   ]
  },
  {
   "cell_type": "markdown",
   "metadata": {},
   "source": [
    "## 3. Collect tweets, from one country only and plot it's coordinates on a map"
   ]
  },
  {
   "cell_type": "markdown",
   "metadata": {},
   "source": [
    "*solution in notebook \"Twitter_exercise_3_R\"*"
   ]
  },
  {
   "cell_type": "markdown",
   "metadata": {},
   "source": [
    "## 4. Send a tweet to your own account and use the *#datascience* hashtag"
   ]
  },
  {
   "cell_type": "code",
   "execution_count": 34,
   "metadata": {},
   "outputs": [
    {
     "name": "stdout",
     "output_type": "stream",
     "text": [
      "Tweeted: #datascience homework using python tweeted from jupyter notebook\n"
     ]
    }
   ],
   "source": [
    "from twython import Twython\n",
    "\n",
    "twitter = Twython(\n",
    "    consumer_key,\n",
    "    consumer_secret,\n",
    "    access_token,\n",
    "    access_secret\n",
    ")\n",
    "message = \"#datascience homework using python tweeted from jupyter notebook\"\n",
    "twitter.update_status(status=message)\n",
    "print(\"Tweeted: {}\".format(message))"
   ]
  },
  {
   "cell_type": "markdown",
   "metadata": {},
   "source": [
    "*Student: Berekméri Evelin, Neptun code: n6fgsv*"
   ]
  },
  {
   "cell_type": "code",
   "execution_count": null,
   "metadata": {},
   "outputs": [],
   "source": []
  }
 ],
 "metadata": {
  "kernelspec": {
   "display_name": "Python 3",
   "language": "python",
   "name": "python3"
  },
  "language_info": {
   "codemirror_mode": {
    "name": "ipython",
    "version": 3
   },
   "file_extension": ".py",
   "mimetype": "text/x-python",
   "name": "python",
   "nbconvert_exporter": "python",
   "pygments_lexer": "ipython3",
   "version": "3.6.3"
  },
  "varInspector": {
   "cols": {
    "lenName": 16,
    "lenType": 16,
    "lenVar": 40
   },
   "kernels_config": {
    "python": {
     "delete_cmd_postfix": "",
     "delete_cmd_prefix": "del ",
     "library": "var_list.py",
     "varRefreshCmd": "print(var_dic_list())"
    },
    "r": {
     "delete_cmd_postfix": ") ",
     "delete_cmd_prefix": "rm(",
     "library": "var_list.r",
     "varRefreshCmd": "cat(var_dic_list()) "
    }
   },
   "types_to_exclude": [
    "module",
    "function",
    "builtin_function_or_method",
    "instance",
    "_Feature"
   ],
   "window_display": false
  }
 },
 "nbformat": 4,
 "nbformat_minor": 2
}
